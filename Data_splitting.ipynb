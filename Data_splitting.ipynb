{
 "cells": [
  {
   "cell_type": "code",
   "execution_count": 1,
   "id": "309c590f-f072-44c9-b70c-357570031efa",
   "metadata": {},
   "outputs": [],
   "source": [
    "import os\n",
    "from pathlib import Path\n",
    "from tqdm.auto import tqdm\n",
    "import pandas as pd\n",
    "import numpy as np\n",
    "\n",
    "import matplotlib.pyplot as plt\n",
    "from sklearn.model_selection import StratifiedGroupKFold\n",
    "from fastai.vision.all import *\n",
    "\n",
    "import wandb\n",
    "import warnings\n",
    "warnings.filterwarnings(\"ignore\")"
   ]
  },
  {
   "cell_type": "code",
   "execution_count": 2,
   "id": "b6a942a8-29ce-4f78-a83f-8e34d4c0b799",
   "metadata": {},
   "outputs": [],
   "source": [
    "class Config:\n",
    "    WANDB_PROJECT = \"mlops-course-001\"\n",
    "    ENTITY = None # set this to team name if working in a team\n",
    "    BDD_CLASSES = {i: c for i, c in enumerate(['background', 'road', 'traffic light', 'traffic sign',\n",
    "                                              'person', 'vehicle', 'bicycle'])}\n",
    "    RAW_DATA_AT = 'bdd_simple_1k'\n",
    "    PROCESSED_DATA_AT = 'bdd_simple_1k_split'\n",
    "    \n",
    "PARAMS = Config()"
   ]
  },
  {
   "cell_type": "code",
   "execution_count": 3,
   "id": "b78a2422-f0c0-4519-ace4-dbdd55c36982",
   "metadata": {},
   "outputs": [
    {
     "name": "stderr",
     "output_type": "stream",
     "text": [
      "Failed to detect the name of this notebook, you can set it manually with the WANDB_NOTEBOOK_NAME environment variable to enable code saving.\n",
      "\u001b[34m\u001b[1mwandb\u001b[0m: Currently logged in as: \u001b[33msamu2505\u001b[0m. Use \u001b[1m`wandb login --relogin`\u001b[0m to force relogin\n"
     ]
    },
    {
     "data": {
      "text/html": [
       "wandb version 0.13.8 is available!  To upgrade, please run:\n",
       " $ pip install wandb --upgrade"
      ],
      "text/plain": [
       "<IPython.core.display.HTML object>"
      ]
     },
     "metadata": {},
     "output_type": "display_data"
    },
    {
     "data": {
      "text/html": [
       "Tracking run with wandb version 0.12.21"
      ],
      "text/plain": [
       "<IPython.core.display.HTML object>"
      ]
     },
     "metadata": {},
     "output_type": "display_data"
    },
    {
     "data": {
      "text/html": [
       "Run data is saved locally in <code>/home/studio-lab-user/WANDB_course/wandb/run-20230111_070938-fstg1aek</code>"
      ],
      "text/plain": [
       "<IPython.core.display.HTML object>"
      ]
     },
     "metadata": {},
     "output_type": "display_data"
    },
    {
     "data": {
      "text/html": [
       "Syncing run <strong><a href=\"https://wandb.ai/samu2505/mlops-course-001/runs/fstg1aek\" target=\"_blank\">fresh-frost-8</a></strong> to <a href=\"https://wandb.ai/samu2505/mlops-course-001\" target=\"_blank\">Weights & Biases</a> (<a href=\"https://wandb.me/run\" target=\"_blank\">docs</a>)<br/>"
      ],
      "text/plain": [
       "<IPython.core.display.HTML object>"
      ]
     },
     "metadata": {},
     "output_type": "display_data"
    }
   ],
   "source": [
    "run = wandb.init(\n",
    "    project=PARAMS.WANDB_PROJECT,\n",
    "    entity=PARAMS.ENTITY,\n",
    "    job_type='data_split'\n",
    ")"
   ]
  },
  {
   "cell_type": "code",
   "execution_count": 4,
   "id": "f4edcf47-7394-4c4d-a408-f79e9f557f28",
   "metadata": {},
   "outputs": [
    {
     "name": "stderr",
     "output_type": "stream",
     "text": [
      "\u001b[34m\u001b[1mwandb\u001b[0m: Downloading large artifact bdd_simple_1k:latest, 846.59MB. 4007 files... Done. 0:0:0.7\n"
     ]
    }
   ],
   "source": [
    "raw_data_at = run.use_artifact(f\"{PARAMS.RAW_DATA_AT}:latest\")\n",
    "path = Path(raw_data_at.download())"
   ]
  },
  {
   "cell_type": "code",
   "execution_count": 5,
   "id": "3c7e5496-83f4-4116-b4ed-545f5d7e9d46",
   "metadata": {},
   "outputs": [
    {
     "name": "stderr",
     "output_type": "stream",
     "text": [
      "\u001b[34m\u001b[1mwandb\u001b[0m: Downloading large artifact bdd_simple_1k:latest, 846.59MB. 4007 files... Done. 0:0:0.7\n"
     ]
    }
   ],
   "source": [
    "orig_eda_table = raw_data_at.get(\"eda_table\")"
   ]
  },
  {
   "cell_type": "code",
   "execution_count": 6,
   "id": "fab08478-8de6-4c9d-857a-ffa1a444062c",
   "metadata": {},
   "outputs": [
    {
     "data": {
      "text/plain": [
       "(#5) [Path('artifacts/bdd_simple_1k:v2/images'),Path('artifacts/bdd_simple_1k:v2/LICENSE.txt'),Path('artifacts/bdd_simple_1k:v2/eda_table.table.json'),Path('artifacts/bdd_simple_1k:v2/labels'),Path('artifacts/bdd_simple_1k:v2/media')]"
      ]
     },
     "execution_count": 6,
     "metadata": {},
     "output_type": "execute_result"
    }
   ],
   "source": [
    "path.ls()"
   ]
  },
  {
   "cell_type": "code",
   "execution_count": 7,
   "id": "a66aa900-1cc4-44d9-b153-aed102dc00cb",
   "metadata": {},
   "outputs": [
    {
     "data": {
      "application/vnd.jupyter.widget-view+json": {
       "model_id": "468204aceb96423ab102e819fb854439",
       "version_major": 2,
       "version_minor": 0
      },
      "text/plain": [
       "  0%|          | 0/1000 [00:00<?, ?it/s]"
      ]
     },
     "metadata": {},
     "output_type": "display_data"
    }
   ],
   "source": [
    "fnames = os.listdir(path/'images') # USE FILENAMES FROM EDA TABLE\n",
    "groups = [s.split('-')[0] for s in tqdm(fnames)]"
   ]
  },
  {
   "cell_type": "code",
   "execution_count": 8,
   "id": "ff251477-edae-4f2a-ba6f-7940233fd62d",
   "metadata": {},
   "outputs": [],
   "source": [
    "y = orig_eda_table.get_column('bicycle')"
   ]
  },
  {
   "cell_type": "markdown",
   "id": "25823309-2c83-4e2d-a2ac-13045aadeb49",
   "metadata": {},
   "source": [
    "Now, we'll split the data into train(80%), validation(10%) amd test(10%) sets. As we do that, we need to be careful to:\n",
    "\n",
    "   <li>avoid leakage: for that reason we're grouping data according to video identifier (we want to make sure our model can generalize to new cars or video frames)</li>\n",
    "   \n",
    "   <li>handle the label imbalance: for that reason we stratify data with our target column</li>\n",
    "   \n",
    "We will use sklearn's ```StratifiedGroupKFold``` to split the data into 10 folds and assign 1 fold for test, 1 for validation and the rest for training"
   ]
  },
  {
   "cell_type": "code",
   "execution_count": 9,
   "id": "cb2f8bbb-e378-4626-b08c-bfb207d546bf",
   "metadata": {},
   "outputs": [],
   "source": [
    "df = pd.DataFrame()\n",
    "df['File_Name'] = fnames\n",
    "df['fold'] = -1"
   ]
  },
  {
   "cell_type": "code",
   "execution_count": 10,
   "id": "53601768-5643-4957-8829-d684c93e2a3b",
   "metadata": {},
   "outputs": [
    {
     "data": {
      "application/vnd.jupyter.widget-view+json": {
       "model_id": "5695ed969b9141c88418c2d84fa73394",
       "version_major": 2,
       "version_minor": 0
      },
      "text/plain": [
       "Creating folds:   0%|          | 0/10 [00:00<?, ?it/s]"
      ]
     },
     "metadata": {},
     "output_type": "display_data"
    }
   ],
   "source": [
    "cv = StratifiedGroupKFold(n_splits=10)\n",
    "for i, (tr_idx, val_idx) in enumerate(tqdm(cv.split(fnames, y, groups), desc='Creating folds', total=10)):\n",
    "    df.loc[val_idx, 'fold'] = i"
   ]
  },
  {
   "cell_type": "code",
   "execution_count": 11,
   "id": "525fb159-e88e-47ef-ab4c-0b8de39280a3",
   "metadata": {},
   "outputs": [
    {
     "data": {
      "text/plain": [
       "train    800\n",
       "valid    100\n",
       "test     100\n",
       "Name: stage, dtype: int64"
      ]
     },
     "execution_count": 11,
     "metadata": {},
     "output_type": "execute_result"
    }
   ],
   "source": [
    "df['stage'] = 'train'\n",
    "df.loc[df.fold == 0, ['stage']] = 'test'\n",
    "df.loc[df.fold == 1, ['stage']] = 'valid'\n",
    "\n",
    "del df['fold']\n",
    "df.stage.value_counts()"
   ]
  },
  {
   "cell_type": "code",
   "execution_count": 12,
   "id": "6b80e401-5e01-4d49-8257-03190e5d63ac",
   "metadata": {},
   "outputs": [],
   "source": [
    "df.to_csv('data_split.csv', index=False)"
   ]
  },
  {
   "cell_type": "markdown",
   "id": "f814680c-88fa-40da-8b6e-11da2d14b17d",
   "metadata": {},
   "source": [
    "We'll now create a new artifact and add our data there"
   ]
  },
  {
   "cell_type": "code",
   "execution_count": 13,
   "id": "3cfbd462-6ce8-41b2-a40d-5cb85ea3a48f",
   "metadata": {},
   "outputs": [
    {
     "name": "stderr",
     "output_type": "stream",
     "text": [
      "\u001b[34m\u001b[1mwandb\u001b[0m: Adding directory to artifact (./artifacts/bdd_simple_1k:v2)... Done. 2.2s\n"
     ]
    }
   ],
   "source": [
    "processed_data_at = wandb.Artifact(PARAMS.PROCESSED_DATA_AT, type='split_data')\n",
    "\n",
    "processed_data_at.add_file('data_split.csv')\n",
    "processed_data_at.add_dir(path)"
   ]
  },
  {
   "cell_type": "markdown",
   "id": "0b310260-a081-4803-a229-76bad2e1b29b",
   "metadata": {},
   "source": [
    "Finally, the split information may be relevant for our analyses - rather than uploading images again, we will save the split information to a new table and join it with EDA table we created previously."
   ]
  },
  {
   "cell_type": "code",
   "execution_count": 15,
   "id": "827e1222-df5e-4d92-8699-714f9de7552d",
   "metadata": {},
   "outputs": [],
   "source": [
    "data_split_table = wandb.Table(dataframe=df[['File_Name', 'stage']])"
   ]
  },
  {
   "cell_type": "code",
   "execution_count": 16,
   "id": "acb75e27-2fe1-4126-9893-043de7641ec1",
   "metadata": {},
   "outputs": [],
   "source": [
    "join_table = wandb.JoinedTable(orig_eda_table, data_split_table, \"FileName\")"
   ]
  },
  {
   "cell_type": "code",
   "execution_count": 17,
   "id": "2a237a42-473b-4bec-a5ab-28e7cebd0738",
   "metadata": {},
   "outputs": [
    {
     "data": {
      "text/plain": [
       "<ManifestEntry digest: 0n/ZULfus5x9ayq8LDiIIA==>"
      ]
     },
     "execution_count": 17,
     "metadata": {},
     "output_type": "execute_result"
    }
   ],
   "source": [
    "# add it to artifact, log and run \n",
    "processed_data_at.add(join_table, \"eda_table_split\")"
   ]
  },
  {
   "cell_type": "code",
   "execution_count": 18,
   "id": "2dbdf8d4-c202-4628-9b3c-efb25252fb55",
   "metadata": {},
   "outputs": [
    {
     "data": {
      "text/html": [
       "Waiting for W&B process to finish... <strong style=\"color:green\">(success).</strong>"
      ],
      "text/plain": [
       "<IPython.core.display.HTML object>"
      ]
     },
     "metadata": {},
     "output_type": "display_data"
    },
    {
     "data": {
      "application/vnd.jupyter.widget-view+json": {
       "model_id": "",
       "version_major": 2,
       "version_minor": 0
      },
      "text/plain": [
       "VBox(children=(Label(value='846.067 MB of 846.067 MB uploaded (846.005 MB deduped)\\r'), FloatProgress(value=1.…"
      ]
     },
     "metadata": {},
     "output_type": "display_data"
    },
    {
     "data": {
      "text/html": [
       "W&B sync reduced upload amount by 100.0%             "
      ],
      "text/plain": [
       "<IPython.core.display.HTML object>"
      ]
     },
     "metadata": {},
     "output_type": "display_data"
    },
    {
     "data": {
      "text/html": [
       "Synced <strong style=\"color:#cdcd00\">fresh-frost-8</strong>: <a href=\"https://wandb.ai/samu2505/mlops-course-001/runs/fstg1aek\" target=\"_blank\">https://wandb.ai/samu2505/mlops-course-001/runs/fstg1aek</a><br/>Synced 6 W&B file(s), 0 media file(s), 4009 artifact file(s) and 0 other file(s)"
      ],
      "text/plain": [
       "<IPython.core.display.HTML object>"
      ]
     },
     "metadata": {},
     "output_type": "display_data"
    },
    {
     "data": {
      "text/html": [
       "Find logs at: <code>./wandb/run-20230111_070938-fstg1aek/logs</code>"
      ],
      "text/plain": [
       "<IPython.core.display.HTML object>"
      ]
     },
     "metadata": {},
     "output_type": "display_data"
    }
   ],
   "source": [
    "run.log_artifact(processed_data_at)\n",
    "run.finish()"
   ]
  },
  {
   "cell_type": "code",
   "execution_count": null,
   "id": "cbcf162a-900e-4e1a-96e3-793478f0aaac",
   "metadata": {},
   "outputs": [],
   "source": []
  }
 ],
 "metadata": {
  "kernelspec": {
   "display_name": "default:Python",
   "language": "python",
   "name": "conda-env-default-py"
  },
  "language_info": {
   "codemirror_mode": {
    "name": "ipython",
    "version": 3
   },
   "file_extension": ".py",
   "mimetype": "text/x-python",
   "name": "python",
   "nbconvert_exporter": "python",
   "pygments_lexer": "ipython3",
   "version": "3.9.9"
  }
 },
 "nbformat": 4,
 "nbformat_minor": 5
}

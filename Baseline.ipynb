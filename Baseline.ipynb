{
 "cells": [
  {
   "cell_type": "code",
   "execution_count": 1,
   "id": "0968120d-6a81-4324-b488-2b4de3a2e309",
   "metadata": {},
   "outputs": [],
   "source": [
    "from tqdm.auto import tqdm\n",
    "tqdm.pandas()\n",
    "\n",
    "import wandb\n",
    "import pandas as pd\n",
    "from fastai.vision.all import *\n",
    "from fastai.callback.wandb import WandbCallback\n",
    "\n",
    "from utils import get_predictions, create_iou_table, MIOU, BackgroundIOU, \\\n",
    "                RoadIOU, TrafficLightIOU, TrafficSignIOU, PersonIOU, VehicleIOU, BicycleIOU"
   ]
  },
  {
   "cell_type": "code",
   "execution_count": 2,
   "id": "9a37ce61-cb1d-414e-a33c-2d1b9541e87e",
   "metadata": {},
   "outputs": [],
   "source": [
    "class Config:\n",
    "    WANDB_PROJECT = \"mlops-course-001\"\n",
    "    ENTITY = None # set this to team name if working in a team\n",
    "    BDD_CLASSES = {i: c for i, c in enumerate(['background', 'road', 'traffic light', 'traffic sign',\n",
    "                                              'person', 'vehicle', 'bicycle'])}\n",
    "    RAW_DATA_AT = 'bdd_simple_1k'\n",
    "    PROCESSED_DATA_AT = 'bdd_simple_1k_split'\n",
    "    \n",
    "params = Config()"
   ]
  },
  {
   "cell_type": "markdown",
   "id": "e3766fcd-4420-41d2-aa57-35d3c0c1c80e",
   "metadata": {},
   "source": [
    "Create a ```train_config``` that we'll pass to W&B ```run``` to control training hyperparameters"
   ]
  },
  {
   "cell_type": "code",
   "execution_count": 3,
   "id": "60e4730f-dc3f-4b6e-a6fe-4a8a5e1421e4",
   "metadata": {},
   "outputs": [],
   "source": [
    "train_config = SimpleNamespace(\n",
    "    framework=\"fastai\",\n",
    "    img_size=(180, 320),\n",
    "    batch_size=8,\n",
    "    augment=True, # use data augmentations\n",
    "    epochs=10,\n",
    "    lr=2e-3, \n",
    "    pretrained=True, # whether to use a pretrained encoder\n",
    "    seed=42\n",
    ")"
   ]
  },
  {
   "cell_type": "markdown",
   "id": "f7652fdf-824c-4d05-8907-ea3ac71d67aa",
   "metadata": {},
   "source": [
    "Set the seed for reproducibility"
   ]
  },
  {
   "cell_type": "code",
   "execution_count": 4,
   "id": "82b78c0e-c9cf-4a9b-ae76-6b8f20fd176d",
   "metadata": {},
   "outputs": [],
   "source": [
    "set_seed(train_config.seed, reproducible=True)"
   ]
  },
  {
   "cell_type": "code",
   "execution_count": 5,
   "id": "0866b63c-9560-4213-90f5-53cf34ee6e6b",
   "metadata": {},
   "outputs": [
    {
     "name": "stderr",
     "output_type": "stream",
     "text": [
      "Failed to detect the name of this notebook, you can set it manually with the WANDB_NOTEBOOK_NAME environment variable to enable code saving.\n",
      "\u001b[34m\u001b[1mwandb\u001b[0m: Currently logged in as: \u001b[33msamu2505\u001b[0m. Use \u001b[1m`wandb login --relogin`\u001b[0m to force relogin\n"
     ]
    },
    {
     "data": {
      "text/html": [
       "wandb version 0.13.9 is available!  To upgrade, please run:\n",
       " $ pip install wandb --upgrade"
      ],
      "text/plain": [
       "<IPython.core.display.HTML object>"
      ]
     },
     "metadata": {},
     "output_type": "display_data"
    },
    {
     "data": {
      "text/html": [
       "Tracking run with wandb version 0.12.21"
      ],
      "text/plain": [
       "<IPython.core.display.HTML object>"
      ]
     },
     "metadata": {},
     "output_type": "display_data"
    },
    {
     "data": {
      "text/html": [
       "Run data is saved locally in <code>/home/studio-lab-user/WANDB_course/wandb/run-20230130_030744-1g73qu5g</code>"
      ],
      "text/plain": [
       "<IPython.core.display.HTML object>"
      ]
     },
     "metadata": {},
     "output_type": "display_data"
    },
    {
     "data": {
      "text/html": [
       "Syncing run <strong><a href=\"https://wandb.ai/samu2505/mlops-course-001/runs/1g73qu5g\" target=\"_blank\">dazzling-lamp-14</a></strong> to <a href=\"https://wandb.ai/samu2505/mlops-course-001\" target=\"_blank\">Weights & Biases</a> (<a href=\"https://wandb.me/run\" target=\"_blank\">docs</a>)<br/>"
      ],
      "text/plain": [
       "<IPython.core.display.HTML object>"
      ]
     },
     "metadata": {},
     "output_type": "display_data"
    }
   ],
   "source": [
    "run = wandb.init(project=params.WANDB_PROJECT, entity=params.ENTITY, job_type='training', config=train_config)"
   ]
  },
  {
   "cell_type": "code",
   "execution_count": 6,
   "id": "01be0d5a-578b-4b3c-94aa-64d2d6961f77",
   "metadata": {},
   "outputs": [
    {
     "name": "stderr",
     "output_type": "stream",
     "text": [
      "\u001b[34m\u001b[1mwandb\u001b[0m: Downloading large artifact bdd_simple_1k_split:latest, 846.07MB. 4010 files... Done. 0:0:0.4\n"
     ]
    }
   ],
   "source": [
    "processed_data_at = run.use_artifact(f\"{params.PROCESSED_DATA_AT}:latest\")\n",
    "processed_dataset_dir = Path(processed_data_at.download())\n",
    "df = pd.read_csv(processed_dataset_dir/'data_split.csv')"
   ]
  },
  {
   "cell_type": "code",
   "execution_count": 7,
   "id": "fd912c5a-e792-4b7b-9e9c-a8bc7d229ad3",
   "metadata": {},
   "outputs": [
    {
     "data": {
      "text/html": [
       "<div>\n",
       "<style scoped>\n",
       "    .dataframe tbody tr th:only-of-type {\n",
       "        vertical-align: middle;\n",
       "    }\n",
       "\n",
       "    .dataframe tbody tr th {\n",
       "        vertical-align: top;\n",
       "    }\n",
       "\n",
       "    .dataframe thead th {\n",
       "        text-align: right;\n",
       "    }\n",
       "</style>\n",
       "<table border=\"1\" class=\"dataframe\">\n",
       "  <thead>\n",
       "    <tr style=\"text-align: right;\">\n",
       "      <th></th>\n",
       "      <th>File_Name</th>\n",
       "      <th>stage</th>\n",
       "      <th>is_valid</th>\n",
       "    </tr>\n",
       "  </thead>\n",
       "  <tbody>\n",
       "    <tr>\n",
       "      <th>0</th>\n",
       "      <td>4b4cb9b0-3efa6143.jpg</td>\n",
       "      <td>valid</td>\n",
       "      <td>True</td>\n",
       "    </tr>\n",
       "    <tr>\n",
       "      <th>1</th>\n",
       "      <td>5715cd38-af2ede7c.jpg</td>\n",
       "      <td>train</td>\n",
       "      <td>False</td>\n",
       "    </tr>\n",
       "    <tr>\n",
       "      <th>2</th>\n",
       "      <td>6d805841-54db0849.jpg</td>\n",
       "      <td>train</td>\n",
       "      <td>False</td>\n",
       "    </tr>\n",
       "    <tr>\n",
       "      <th>3</th>\n",
       "      <td>b6b047b4-3fccc761.jpg</td>\n",
       "      <td>train</td>\n",
       "      <td>False</td>\n",
       "    </tr>\n",
       "    <tr>\n",
       "      <th>4</th>\n",
       "      <td>8c976e04-47482559.jpg</td>\n",
       "      <td>train</td>\n",
       "      <td>False</td>\n",
       "    </tr>\n",
       "    <tr>\n",
       "      <th>...</th>\n",
       "      <td>...</td>\n",
       "      <td>...</td>\n",
       "      <td>...</td>\n",
       "    </tr>\n",
       "    <tr>\n",
       "      <th>895</th>\n",
       "      <td>68e7781a-cffc2268.jpg</td>\n",
       "      <td>train</td>\n",
       "      <td>False</td>\n",
       "    </tr>\n",
       "    <tr>\n",
       "      <th>896</th>\n",
       "      <td>3b87b80e-d856ff82.jpg</td>\n",
       "      <td>train</td>\n",
       "      <td>False</td>\n",
       "    </tr>\n",
       "    <tr>\n",
       "      <th>897</th>\n",
       "      <td>350334d0-07862427.jpg</td>\n",
       "      <td>train</td>\n",
       "      <td>False</td>\n",
       "    </tr>\n",
       "    <tr>\n",
       "      <th>898</th>\n",
       "      <td>351bec53-3749220c.jpg</td>\n",
       "      <td>train</td>\n",
       "      <td>False</td>\n",
       "    </tr>\n",
       "    <tr>\n",
       "      <th>899</th>\n",
       "      <td>35bb33ae-cd45d023.jpg</td>\n",
       "      <td>train</td>\n",
       "      <td>False</td>\n",
       "    </tr>\n",
       "  </tbody>\n",
       "</table>\n",
       "<p>900 rows × 3 columns</p>\n",
       "</div>"
      ],
      "text/plain": [
       "                 File_Name  stage  is_valid\n",
       "0    4b4cb9b0-3efa6143.jpg  valid      True\n",
       "1    5715cd38-af2ede7c.jpg  train     False\n",
       "2    6d805841-54db0849.jpg  train     False\n",
       "3    b6b047b4-3fccc761.jpg  train     False\n",
       "4    8c976e04-47482559.jpg  train     False\n",
       "..                     ...    ...       ...\n",
       "895  68e7781a-cffc2268.jpg  train     False\n",
       "896  3b87b80e-d856ff82.jpg  train     False\n",
       "897  350334d0-07862427.jpg  train     False\n",
       "898  351bec53-3749220c.jpg  train     False\n",
       "899  35bb33ae-cd45d023.jpg  train     False\n",
       "\n",
       "[900 rows x 3 columns]"
      ]
     },
     "execution_count": 7,
     "metadata": {},
     "output_type": "execute_result"
    }
   ],
   "source": [
    "df = df[df.stage != 'test'].reset_index(drop=True)\n",
    "df['is_valid'] = df.stage =='valid'\n",
    "df"
   ]
  },
  {
   "cell_type": "code",
   "execution_count": 8,
   "id": "9b12a68f-6a62-4499-a61c-25ebc6deffed",
   "metadata": {},
   "outputs": [],
   "source": [
    "def label_func(fname):\n",
    "    return (fname.parent.parent/'labels')/f\"{fname.stem}_mask.png\""
   ]
  },
  {
   "cell_type": "code",
   "execution_count": 9,
   "id": "a3f0f165-38e9-4e28-a6b2-682a27aab653",
   "metadata": {},
   "outputs": [
    {
     "data": {
      "application/vnd.jupyter.widget-view+json": {
       "model_id": "da7bb133525c40fdbe096f46adaf6944",
       "version_major": 2,
       "version_minor": 0
      },
      "text/plain": [
       "Creating image files:   0%|          | 0/900 [00:00<?, ?it/s]"
      ]
     },
     "metadata": {},
     "output_type": "display_data"
    },
    {
     "data": {
      "application/vnd.jupyter.widget-view+json": {
       "model_id": "0ce213e554d84e3aa39076d2e732745d",
       "version_major": 2,
       "version_minor": 0
      },
      "text/plain": [
       "Creating labels:   0%|          | 0/900 [00:00<?, ?it/s]"
      ]
     },
     "metadata": {},
     "output_type": "display_data"
    }
   ],
   "source": [
    "# assign paths\n",
    "df['image_fname'] = [processed_dataset_dir/f'images/{f}' for f in tqdm(df.File_Name.values, total=len(df),\n",
    "                                                                          desc='Creating image files')]\n",
    "df['label_fname'] = [label_func(f) for f in tqdm(df.image_fname.values, total=len(df),\n",
    "                                                desc='Creating labels')]"
   ]
  },
  {
   "cell_type": "code",
   "execution_count": 10,
   "id": "421c53b6-f8e2-49a3-87f4-2c962832450e",
   "metadata": {},
   "outputs": [
    {
     "data": {
      "text/html": [
       "<div>\n",
       "<style scoped>\n",
       "    .dataframe tbody tr th:only-of-type {\n",
       "        vertical-align: middle;\n",
       "    }\n",
       "\n",
       "    .dataframe tbody tr th {\n",
       "        vertical-align: top;\n",
       "    }\n",
       "\n",
       "    .dataframe thead th {\n",
       "        text-align: right;\n",
       "    }\n",
       "</style>\n",
       "<table border=\"1\" class=\"dataframe\">\n",
       "  <thead>\n",
       "    <tr style=\"text-align: right;\">\n",
       "      <th></th>\n",
       "      <th>File_Name</th>\n",
       "      <th>stage</th>\n",
       "      <th>is_valid</th>\n",
       "      <th>image_fname</th>\n",
       "      <th>label_fname</th>\n",
       "    </tr>\n",
       "  </thead>\n",
       "  <tbody>\n",
       "    <tr>\n",
       "      <th>0</th>\n",
       "      <td>4b4cb9b0-3efa6143.jpg</td>\n",
       "      <td>valid</td>\n",
       "      <td>True</td>\n",
       "      <td>artifacts/bdd_simple_1k_split:v3/images/4b4cb9b0-3efa6143.jpg</td>\n",
       "      <td>artifacts/bdd_simple_1k_split:v3/labels/4b4cb9b0-3efa6143_mask.png</td>\n",
       "    </tr>\n",
       "    <tr>\n",
       "      <th>1</th>\n",
       "      <td>5715cd38-af2ede7c.jpg</td>\n",
       "      <td>train</td>\n",
       "      <td>False</td>\n",
       "      <td>artifacts/bdd_simple_1k_split:v3/images/5715cd38-af2ede7c.jpg</td>\n",
       "      <td>artifacts/bdd_simple_1k_split:v3/labels/5715cd38-af2ede7c_mask.png</td>\n",
       "    </tr>\n",
       "    <tr>\n",
       "      <th>2</th>\n",
       "      <td>6d805841-54db0849.jpg</td>\n",
       "      <td>train</td>\n",
       "      <td>False</td>\n",
       "      <td>artifacts/bdd_simple_1k_split:v3/images/6d805841-54db0849.jpg</td>\n",
       "      <td>artifacts/bdd_simple_1k_split:v3/labels/6d805841-54db0849_mask.png</td>\n",
       "    </tr>\n",
       "    <tr>\n",
       "      <th>3</th>\n",
       "      <td>b6b047b4-3fccc761.jpg</td>\n",
       "      <td>train</td>\n",
       "      <td>False</td>\n",
       "      <td>artifacts/bdd_simple_1k_split:v3/images/b6b047b4-3fccc761.jpg</td>\n",
       "      <td>artifacts/bdd_simple_1k_split:v3/labels/b6b047b4-3fccc761_mask.png</td>\n",
       "    </tr>\n",
       "    <tr>\n",
       "      <th>4</th>\n",
       "      <td>8c976e04-47482559.jpg</td>\n",
       "      <td>train</td>\n",
       "      <td>False</td>\n",
       "      <td>artifacts/bdd_simple_1k_split:v3/images/8c976e04-47482559.jpg</td>\n",
       "      <td>artifacts/bdd_simple_1k_split:v3/labels/8c976e04-47482559_mask.png</td>\n",
       "    </tr>\n",
       "    <tr>\n",
       "      <th>...</th>\n",
       "      <td>...</td>\n",
       "      <td>...</td>\n",
       "      <td>...</td>\n",
       "      <td>...</td>\n",
       "      <td>...</td>\n",
       "    </tr>\n",
       "    <tr>\n",
       "      <th>895</th>\n",
       "      <td>68e7781a-cffc2268.jpg</td>\n",
       "      <td>train</td>\n",
       "      <td>False</td>\n",
       "      <td>artifacts/bdd_simple_1k_split:v3/images/68e7781a-cffc2268.jpg</td>\n",
       "      <td>artifacts/bdd_simple_1k_split:v3/labels/68e7781a-cffc2268_mask.png</td>\n",
       "    </tr>\n",
       "    <tr>\n",
       "      <th>896</th>\n",
       "      <td>3b87b80e-d856ff82.jpg</td>\n",
       "      <td>train</td>\n",
       "      <td>False</td>\n",
       "      <td>artifacts/bdd_simple_1k_split:v3/images/3b87b80e-d856ff82.jpg</td>\n",
       "      <td>artifacts/bdd_simple_1k_split:v3/labels/3b87b80e-d856ff82_mask.png</td>\n",
       "    </tr>\n",
       "    <tr>\n",
       "      <th>897</th>\n",
       "      <td>350334d0-07862427.jpg</td>\n",
       "      <td>train</td>\n",
       "      <td>False</td>\n",
       "      <td>artifacts/bdd_simple_1k_split:v3/images/350334d0-07862427.jpg</td>\n",
       "      <td>artifacts/bdd_simple_1k_split:v3/labels/350334d0-07862427_mask.png</td>\n",
       "    </tr>\n",
       "    <tr>\n",
       "      <th>898</th>\n",
       "      <td>351bec53-3749220c.jpg</td>\n",
       "      <td>train</td>\n",
       "      <td>False</td>\n",
       "      <td>artifacts/bdd_simple_1k_split:v3/images/351bec53-3749220c.jpg</td>\n",
       "      <td>artifacts/bdd_simple_1k_split:v3/labels/351bec53-3749220c_mask.png</td>\n",
       "    </tr>\n",
       "    <tr>\n",
       "      <th>899</th>\n",
       "      <td>35bb33ae-cd45d023.jpg</td>\n",
       "      <td>train</td>\n",
       "      <td>False</td>\n",
       "      <td>artifacts/bdd_simple_1k_split:v3/images/35bb33ae-cd45d023.jpg</td>\n",
       "      <td>artifacts/bdd_simple_1k_split:v3/labels/35bb33ae-cd45d023_mask.png</td>\n",
       "    </tr>\n",
       "  </tbody>\n",
       "</table>\n",
       "<p>900 rows × 5 columns</p>\n",
       "</div>"
      ],
      "text/plain": [
       "                 File_Name  stage  is_valid  \\\n",
       "0    4b4cb9b0-3efa6143.jpg  valid      True   \n",
       "1    5715cd38-af2ede7c.jpg  train     False   \n",
       "2    6d805841-54db0849.jpg  train     False   \n",
       "3    b6b047b4-3fccc761.jpg  train     False   \n",
       "4    8c976e04-47482559.jpg  train     False   \n",
       "..                     ...    ...       ...   \n",
       "895  68e7781a-cffc2268.jpg  train     False   \n",
       "896  3b87b80e-d856ff82.jpg  train     False   \n",
       "897  350334d0-07862427.jpg  train     False   \n",
       "898  351bec53-3749220c.jpg  train     False   \n",
       "899  35bb33ae-cd45d023.jpg  train     False   \n",
       "\n",
       "                                                       image_fname  \\\n",
       "0    artifacts/bdd_simple_1k_split:v3/images/4b4cb9b0-3efa6143.jpg   \n",
       "1    artifacts/bdd_simple_1k_split:v3/images/5715cd38-af2ede7c.jpg   \n",
       "2    artifacts/bdd_simple_1k_split:v3/images/6d805841-54db0849.jpg   \n",
       "3    artifacts/bdd_simple_1k_split:v3/images/b6b047b4-3fccc761.jpg   \n",
       "4    artifacts/bdd_simple_1k_split:v3/images/8c976e04-47482559.jpg   \n",
       "..                                                             ...   \n",
       "895  artifacts/bdd_simple_1k_split:v3/images/68e7781a-cffc2268.jpg   \n",
       "896  artifacts/bdd_simple_1k_split:v3/images/3b87b80e-d856ff82.jpg   \n",
       "897  artifacts/bdd_simple_1k_split:v3/images/350334d0-07862427.jpg   \n",
       "898  artifacts/bdd_simple_1k_split:v3/images/351bec53-3749220c.jpg   \n",
       "899  artifacts/bdd_simple_1k_split:v3/images/35bb33ae-cd45d023.jpg   \n",
       "\n",
       "                                                            label_fname  \n",
       "0    artifacts/bdd_simple_1k_split:v3/labels/4b4cb9b0-3efa6143_mask.png  \n",
       "1    artifacts/bdd_simple_1k_split:v3/labels/5715cd38-af2ede7c_mask.png  \n",
       "2    artifacts/bdd_simple_1k_split:v3/labels/6d805841-54db0849_mask.png  \n",
       "3    artifacts/bdd_simple_1k_split:v3/labels/b6b047b4-3fccc761_mask.png  \n",
       "4    artifacts/bdd_simple_1k_split:v3/labels/8c976e04-47482559_mask.png  \n",
       "..                                                                  ...  \n",
       "895  artifacts/bdd_simple_1k_split:v3/labels/68e7781a-cffc2268_mask.png  \n",
       "896  artifacts/bdd_simple_1k_split:v3/labels/3b87b80e-d856ff82_mask.png  \n",
       "897  artifacts/bdd_simple_1k_split:v3/labels/350334d0-07862427_mask.png  \n",
       "898  artifacts/bdd_simple_1k_split:v3/labels/351bec53-3749220c_mask.png  \n",
       "899  artifacts/bdd_simple_1k_split:v3/labels/35bb33ae-cd45d023_mask.png  \n",
       "\n",
       "[900 rows x 5 columns]"
      ]
     },
     "execution_count": 10,
     "metadata": {},
     "output_type": "execute_result"
    }
   ],
   "source": [
    "df"
   ]
  },
  {
   "cell_type": "code",
   "execution_count": 11,
   "id": "2f8c1b77-1877-40b8-a10d-190af99b59a6",
   "metadata": {},
   "outputs": [],
   "source": [
    "def get_data(df, bs=4, img_size=(180, 320), augment=True):\n",
    "    block = DataBlock(blocks=(ImageBlock, MaskBlock(codes=params.BDD_CLASSES)),\n",
    "                     get_x=ColReader('image_fname'),\n",
    "                     get_y=ColReader('label_fname'),\n",
    "                     splitter=ColSplitter(),\n",
    "                     item_tfms=Resize(img_size),\n",
    "                     batch_tfms=aug_transforms() if augment else None)\n",
    "    \n",
    "    return block.dataloaders(df, bs=bs)"
   ]
  },
  {
   "cell_type": "code",
   "execution_count": 12,
   "id": "530a7528-5879-491c-a758-abf0d1a3dc5c",
   "metadata": {},
   "outputs": [],
   "source": [
    "config = wandb.config"
   ]
  },
  {
   "cell_type": "code",
   "execution_count": 13,
   "id": "12fcee80-1af4-4c1b-8123-4318869cdb50",
   "metadata": {},
   "outputs": [
    {
     "name": "stderr",
     "output_type": "stream",
     "text": [
      "/home/studio-lab-user/.conda/envs/default/lib/python3.9/site-packages/torch/_tensor.py:1051: UserWarning: __floordiv__ is deprecated, and its behavior will change in a future version of pytorch. It currently rounds toward 0 (like the 'trunc' function NOT 'floor'). This results in incorrect rounding for negative values. To keep the current behavior, use torch.div(a, b, rounding_mode='trunc'), or for actual floor division, use torch.div(a, b, rounding_mode='floor').\n",
      "  ret = func(*args, **kwargs)\n"
     ]
    }
   ],
   "source": [
    "dls = get_data(df, bs=config.batch_size, img_size=config.img_size, augment=config.augment)"
   ]
  },
  {
   "cell_type": "code",
   "execution_count": 14,
   "id": "ae794fb8-db8f-4289-8e62-0627e8f564e9",
   "metadata": {},
   "outputs": [],
   "source": [
    "metrics = [MIOU(), BackgroundIOU(), RoadIOU(), TrafficLightIOU(), \\\n",
    "          TrafficSignIOU(), PersonIOU(), VehicleIOU(), BicycleIOU()]\n",
    "\n",
    "learn = unet_learner(dls, arch=resnet18, pretrained=config.pretrained, metrics=metrics)"
   ]
  },
  {
   "cell_type": "code",
   "execution_count": 16,
   "id": "91461d90-2647-4aea-9863-49b73874a5c6",
   "metadata": {},
   "outputs": [
    {
     "data": {
      "text/plain": [
       "[SaveModelCallback, WandbCallback]"
      ]
     },
     "execution_count": 16,
     "metadata": {},
     "output_type": "execute_result"
    }
   ],
   "source": [
    "callbacks = [\n",
    "    SaveModelCallback(monitor='miou'),\n",
    "    WandbCallback(log_preds=False, log_model=True)\n",
    "]\n",
    "\n",
    "callbacks"
   ]
  },
  {
   "cell_type": "code",
   "execution_count": 18,
   "id": "c2e225dd-0f79-47b9-9ac9-c8cc4760db17",
   "metadata": {},
   "outputs": [
    {
     "name": "stderr",
     "output_type": "stream",
     "text": [
      "/home/studio-lab-user/.conda/envs/default/lib/python3.9/site-packages/torch/_tensor.py:1051: UserWarning: __floordiv__ is deprecated, and its behavior will change in a future version of pytorch. It currently rounds toward 0 (like the 'trunc' function NOT 'floor'). This results in incorrect rounding for negative values. To keep the current behavior, use torch.div(a, b, rounding_mode='trunc'), or for actual floor division, use torch.div(a, b, rounding_mode='floor').\n",
      "  ret = func(*args, **kwargs)\n"
     ]
    },
    {
     "data": {
      "text/html": [
       "\n",
       "<style>\n",
       "    /* Turns off some styling */\n",
       "    progress {\n",
       "        /* gets rid of default border in Firefox and Opera. */\n",
       "        border: none;\n",
       "        /* Needs to be in here for Safari polyfill so background images work as expected. */\n",
       "        background-size: auto;\n",
       "    }\n",
       "    .progress-bar-interrupted, .progress-bar-interrupted::-webkit-progress-bar {\n",
       "        background: #F44336;\n",
       "    }\n",
       "</style>\n"
      ],
      "text/plain": [
       "<IPython.core.display.HTML object>"
      ]
     },
     "metadata": {},
     "output_type": "display_data"
    },
    {
     "data": {
      "text/html": [
       "<table border=\"1\" class=\"dataframe\">\n",
       "  <thead>\n",
       "    <tr style=\"text-align: left;\">\n",
       "      <th>epoch</th>\n",
       "      <th>train_loss</th>\n",
       "      <th>valid_loss</th>\n",
       "      <th>miou</th>\n",
       "      <th>background_iou</th>\n",
       "      <th>road_iou</th>\n",
       "      <th>traffic_light_iou</th>\n",
       "      <th>traffic_sign_iou</th>\n",
       "      <th>person_iou</th>\n",
       "      <th>vehicle_iou</th>\n",
       "      <th>bicycle_iou</th>\n",
       "      <th>time</th>\n",
       "    </tr>\n",
       "  </thead>\n",
       "  <tbody>\n",
       "    <tr>\n",
       "      <td>0</td>\n",
       "      <td>0.490677</td>\n",
       "      <td>0.349959</td>\n",
       "      <td>0.297394</td>\n",
       "      <td>0.857789</td>\n",
       "      <td>0.676493</td>\n",
       "      <td>0.000000</td>\n",
       "      <td>0.000000</td>\n",
       "      <td>0.000000</td>\n",
       "      <td>0.547474</td>\n",
       "      <td>0.000000</td>\n",
       "      <td>00:41</td>\n",
       "    </tr>\n",
       "    <tr>\n",
       "      <td>1</td>\n",
       "      <td>0.466264</td>\n",
       "      <td>0.553690</td>\n",
       "      <td>0.222798</td>\n",
       "      <td>0.789950</td>\n",
       "      <td>0.315442</td>\n",
       "      <td>0.000000</td>\n",
       "      <td>0.000000</td>\n",
       "      <td>0.000000</td>\n",
       "      <td>0.454197</td>\n",
       "      <td>0.000000</td>\n",
       "      <td>00:41</td>\n",
       "    </tr>\n",
       "    <tr>\n",
       "      <td>2</td>\n",
       "      <td>0.367835</td>\n",
       "      <td>0.405159</td>\n",
       "      <td>0.318156</td>\n",
       "      <td>0.875586</td>\n",
       "      <td>0.745007</td>\n",
       "      <td>0.000000</td>\n",
       "      <td>0.000000</td>\n",
       "      <td>0.000000</td>\n",
       "      <td>0.606501</td>\n",
       "      <td>0.000000</td>\n",
       "      <td>00:40</td>\n",
       "    </tr>\n",
       "    <tr>\n",
       "      <td>3</td>\n",
       "      <td>0.321802</td>\n",
       "      <td>0.314485</td>\n",
       "      <td>0.321257</td>\n",
       "      <td>0.872683</td>\n",
       "      <td>0.711619</td>\n",
       "      <td>0.000000</td>\n",
       "      <td>0.000000</td>\n",
       "      <td>0.000000</td>\n",
       "      <td>0.664494</td>\n",
       "      <td>0.000000</td>\n",
       "      <td>00:40</td>\n",
       "    </tr>\n",
       "    <tr>\n",
       "      <td>4</td>\n",
       "      <td>0.281379</td>\n",
       "      <td>0.251811</td>\n",
       "      <td>0.343938</td>\n",
       "      <td>0.903793</td>\n",
       "      <td>0.790577</td>\n",
       "      <td>0.000440</td>\n",
       "      <td>0.000000</td>\n",
       "      <td>0.000000</td>\n",
       "      <td>0.712753</td>\n",
       "      <td>0.000000</td>\n",
       "      <td>00:40</td>\n",
       "    </tr>\n",
       "    <tr>\n",
       "      <td>5</td>\n",
       "      <td>0.245501</td>\n",
       "      <td>0.247902</td>\n",
       "      <td>0.338116</td>\n",
       "      <td>0.898746</td>\n",
       "      <td>0.800793</td>\n",
       "      <td>0.000000</td>\n",
       "      <td>0.000000</td>\n",
       "      <td>0.000000</td>\n",
       "      <td>0.667272</td>\n",
       "      <td>0.000000</td>\n",
       "      <td>00:40</td>\n",
       "    </tr>\n",
       "    <tr>\n",
       "      <td>6</td>\n",
       "      <td>0.235961</td>\n",
       "      <td>0.250313</td>\n",
       "      <td>0.353900</td>\n",
       "      <td>0.910253</td>\n",
       "      <td>0.794903</td>\n",
       "      <td>0.048807</td>\n",
       "      <td>0.000000</td>\n",
       "      <td>0.000000</td>\n",
       "      <td>0.723334</td>\n",
       "      <td>0.000000</td>\n",
       "      <td>00:40</td>\n",
       "    </tr>\n",
       "    <tr>\n",
       "      <td>7</td>\n",
       "      <td>0.211294</td>\n",
       "      <td>0.244943</td>\n",
       "      <td>0.351020</td>\n",
       "      <td>0.910322</td>\n",
       "      <td>0.801669</td>\n",
       "      <td>0.009864</td>\n",
       "      <td>0.000000</td>\n",
       "      <td>0.000000</td>\n",
       "      <td>0.735283</td>\n",
       "      <td>0.000000</td>\n",
       "      <td>00:40</td>\n",
       "    </tr>\n",
       "    <tr>\n",
       "      <td>8</td>\n",
       "      <td>0.193634</td>\n",
       "      <td>0.228679</td>\n",
       "      <td>0.359112</td>\n",
       "      <td>0.915457</td>\n",
       "      <td>0.813365</td>\n",
       "      <td>0.032538</td>\n",
       "      <td>0.000760</td>\n",
       "      <td>0.000000</td>\n",
       "      <td>0.751661</td>\n",
       "      <td>0.000000</td>\n",
       "      <td>00:40</td>\n",
       "    </tr>\n",
       "    <tr>\n",
       "      <td>9</td>\n",
       "      <td>0.187169</td>\n",
       "      <td>0.230073</td>\n",
       "      <td>0.362017</td>\n",
       "      <td>0.915586</td>\n",
       "      <td>0.814348</td>\n",
       "      <td>0.047882</td>\n",
       "      <td>0.004183</td>\n",
       "      <td>0.000000</td>\n",
       "      <td>0.752119</td>\n",
       "      <td>0.000000</td>\n",
       "      <td>00:41</td>\n",
       "    </tr>\n",
       "  </tbody>\n",
       "</table>"
      ],
      "text/plain": [
       "<IPython.core.display.HTML object>"
      ]
     },
     "metadata": {},
     "output_type": "display_data"
    },
    {
     "name": "stdout",
     "output_type": "stream",
     "text": [
      "Better model found at epoch 0 with miou value: 0.2973936962635032.\n",
      "Better model found at epoch 2 with miou value: 0.318156267917528.\n",
      "Better model found at epoch 3 with miou value: 0.3212565714067304.\n",
      "Better model found at epoch 4 with miou value: 0.3439375260325666.\n",
      "Better model found at epoch 6 with miou value: 0.353899672661179.\n",
      "Better model found at epoch 8 with miou value: 0.35911159512961305.\n",
      "Better model found at epoch 9 with miou value: 0.36201670081194653.\n"
     ]
    }
   ],
   "source": [
    "learn.fit_one_cycle(config.epochs, config.lr, cbs=callbacks)"
   ]
  },
  {
   "cell_type": "markdown",
   "id": "0d9cb563-edeb-4a27-b849-b5a3f1ffe33d",
   "metadata": {},
   "source": [
    "Log a table with model predictions and ground truth to W&B, so that we can do error analysis in the W&B dashboard"
   ]
  },
  {
   "cell_type": "code",
   "execution_count": 19,
   "id": "0fa09150-7c49-4b09-92a4-fe3ffded7dd8",
   "metadata": {},
   "outputs": [
    {
     "data": {
      "text/html": [
       "\n",
       "<style>\n",
       "    /* Turns off some styling */\n",
       "    progress {\n",
       "        /* gets rid of default border in Firefox and Opera. */\n",
       "        border: none;\n",
       "        /* Needs to be in here for Safari polyfill so background images work as expected. */\n",
       "        background-size: auto;\n",
       "    }\n",
       "    .progress-bar-interrupted, .progress-bar-interrupted::-webkit-progress-bar {\n",
       "        background: #F44336;\n",
       "    }\n",
       "</style>\n"
      ],
      "text/plain": [
       "<IPython.core.display.HTML object>"
      ]
     },
     "metadata": {},
     "output_type": "display_data"
    },
    {
     "data": {
      "text/html": [],
      "text/plain": [
       "<IPython.core.display.HTML object>"
      ]
     },
     "metadata": {},
     "output_type": "display_data"
    },
    {
     "name": "stderr",
     "output_type": "stream",
     "text": [
      "/home/studio-lab-user/.conda/envs/default/lib/python3.9/site-packages/torch/_tensor.py:1051: UserWarning: __floordiv__ is deprecated, and its behavior will change in a future version of pytorch. It currently rounds toward 0 (like the 'trunc' function NOT 'floor'). This results in incorrect rounding for negative values. To keep the current behavior, use torch.div(a, b, rounding_mode='trunc'), or for actual floor division, use torch.div(a, b, rounding_mode='floor').\n",
      "  ret = func(*args, **kwargs)\n"
     ]
    },
    {
     "data": {
      "text/html": [
       "\n",
       "<style>\n",
       "    /* Turns off some styling */\n",
       "    progress {\n",
       "        /* gets rid of default border in Firefox and Opera. */\n",
       "        border: none;\n",
       "        /* Needs to be in here for Safari polyfill so background images work as expected. */\n",
       "        background-size: auto;\n",
       "    }\n",
       "    .progress-bar-interrupted, .progress-bar-interrupted::-webkit-progress-bar {\n",
       "        background: #F44336;\n",
       "    }\n",
       "</style>\n"
      ],
      "text/plain": [
       "<IPython.core.display.HTML object>"
      ]
     },
     "metadata": {},
     "output_type": "display_data"
    },
    {
     "data": {
      "text/html": [
       "\n",
       "    <div>\n",
       "      <progress value='100' class='' max='100' style='width:300px; height:20px; vertical-align: middle;'></progress>\n",
       "      100.00% [100/100 00:11<00:00]\n",
       "    </div>\n",
       "    "
      ],
      "text/plain": [
       "<IPython.core.display.HTML object>"
      ]
     },
     "metadata": {},
     "output_type": "display_data"
    }
   ],
   "source": [
    "samples, outputs, predictions = get_predictions(learn)\n",
    "table = create_iou_table(samples, outputs, predictions, params.BDD_CLASSES)\n",
    "wandb.log({'pred_table': table})"
   ]
  },
  {
   "cell_type": "markdown",
   "id": "c279c99f-9ca2-4bf5-9866-5994f3f20225",
   "metadata": {},
   "source": [
    "We're reloading the model from the best checkpoint at the end and saving it. To make sure we track the final metrics correctly, we'll validate the model again and save the final loss and metrics to ```wandb.summary```"
   ]
  },
  {
   "cell_type": "code",
   "execution_count": 20,
   "id": "171bd306-78f8-4ebb-9583-ad2cd480d5e7",
   "metadata": {},
   "outputs": [
    {
     "data": {
      "text/html": [
       "\n",
       "<style>\n",
       "    /* Turns off some styling */\n",
       "    progress {\n",
       "        /* gets rid of default border in Firefox and Opera. */\n",
       "        border: none;\n",
       "        /* Needs to be in here for Safari polyfill so background images work as expected. */\n",
       "        background-size: auto;\n",
       "    }\n",
       "    .progress-bar-interrupted, .progress-bar-interrupted::-webkit-progress-bar {\n",
       "        background: #F44336;\n",
       "    }\n",
       "</style>\n"
      ],
      "text/plain": [
       "<IPython.core.display.HTML object>"
      ]
     },
     "metadata": {},
     "output_type": "display_data"
    },
    {
     "data": {
      "text/html": [],
      "text/plain": [
       "<IPython.core.display.HTML object>"
      ]
     },
     "metadata": {},
     "output_type": "display_data"
    },
    {
     "name": "stderr",
     "output_type": "stream",
     "text": [
      "/home/studio-lab-user/.conda/envs/default/lib/python3.9/site-packages/torch/_tensor.py:1051: UserWarning: __floordiv__ is deprecated, and its behavior will change in a future version of pytorch. It currently rounds toward 0 (like the 'trunc' function NOT 'floor'). This results in incorrect rounding for negative values. To keep the current behavior, use torch.div(a, b, rounding_mode='trunc'), or for actual floor division, use torch.div(a, b, rounding_mode='floor').\n",
      "  ret = func(*args, **kwargs)\n"
     ]
    }
   ],
   "source": [
    "scores = learn.validate()\n",
    "metric_names = ['final_loss'] + [f'final_{x.name}' for x in metrics]\n",
    "final_results = {metric_names[i]: scores[i] for i in range(len(scores))}\n",
    "\n",
    "for k, v in final_results.items():\n",
    "    wandb.summary[k] = v"
   ]
  },
  {
   "cell_type": "code",
   "execution_count": 21,
   "id": "3f1e796a-bd0c-419c-ab02-8f25f3e4bb37",
   "metadata": {},
   "outputs": [
    {
     "data": {
      "text/html": [
       "Waiting for W&B process to finish... <strong style=\"color:green\">(success).</strong>"
      ],
      "text/plain": [
       "<IPython.core.display.HTML object>"
      ]
     },
     "metadata": {},
     "output_type": "display_data"
    },
    {
     "data": {
      "application/vnd.jupyter.widget-view+json": {
       "model_id": "",
       "version_major": 2,
       "version_minor": 0
      },
      "text/plain": [
       "VBox(children=(Label(value='126.452 MB of 126.452 MB uploaded (0.000 MB deduped)\\r'), FloatProgress(value=1.0,…"
      ]
     },
     "metadata": {},
     "output_type": "display_data"
    },
    {
     "data": {
      "text/html": [
       "<style>\n",
       "    table.wandb td:nth-child(1) { padding: 0 10px; text-align: left ; width: auto;} td:nth-child(2) {text-align: left ; width: 100%}\n",
       "    .wandb-row { display: flex; flex-direction: row; flex-wrap: wrap; justify-content: flex-start; width: 100% }\n",
       "    .wandb-col { display: flex; flex-direction: column; flex-basis: 100%; flex: 1; padding: 10px; }\n",
       "    </style>\n",
       "<div class=\"wandb-row\"><div class=\"wandb-col\"><h3>Run history:</h3><br/><table class=\"wandb\"><tr><td>background_iou</td><td>▅▁▆▆▇▇████</td></tr><tr><td>bicycle_iou</td><td>▁▁▁▁▁▁▁▁▁▁</td></tr><tr><td>epoch</td><td>▁▁▁▂▂▂▂▂▂▃▃▃▃▃▄▄▄▄▄▄▅▅▅▅▅▅▆▆▆▆▆▇▇▇▇▇▇███</td></tr><tr><td>eps_0</td><td>▁▁▁▁▁▁▁▁▁▁▁▁▁▁▁▁▁▁▁▁▁▁▁▁▁▁▁▁▁▁▁▁▁▁▁▁▁▁▁▁</td></tr><tr><td>eps_1</td><td>▁▁▁▁▁▁▁▁▁▁▁▁▁▁▁▁▁▁▁▁▁▁▁▁▁▁▁▁▁▁▁▁▁▁▁▁▁▁▁▁</td></tr><tr><td>eps_2</td><td>▁▁▁▁▁▁▁▁▁▁▁▁▁▁▁▁▁▁▁▁▁▁▁▁▁▁▁▁▁▁▁▁▁▁▁▁▁▁▁▁</td></tr><tr><td>lr_0</td><td>▁▂▂▃▄▅▆▇███████▇▇▇▇▆▆▆▅▅▅▄▄▄▃▃▃▂▂▂▁▁▁▁▁▁</td></tr><tr><td>lr_1</td><td>▁▂▂▃▄▅▆▇███████▇▇▇▇▆▆▆▅▅▅▄▄▄▃▃▃▂▂▂▁▁▁▁▁▁</td></tr><tr><td>lr_2</td><td>▁▂▂▃▄▅▆▇███████▇▇▇▇▆▆▆▅▅▅▄▄▄▃▃▃▂▂▂▁▁▁▁▁▁</td></tr><tr><td>miou</td><td>▅▁▆▆▇▇█▇██</td></tr><tr><td>mom_0</td><td>██▇▆▅▄▃▂▁▁▁▁▁▁▁▂▂▂▂▃▃▃▄▄▄▅▅▅▆▆▆▇▇▇██████</td></tr><tr><td>mom_1</td><td>██▇▆▅▄▃▂▁▁▁▁▁▁▁▂▂▂▂▃▃▃▄▄▄▅▅▅▆▆▆▇▇▇██████</td></tr><tr><td>mom_2</td><td>██▇▆▅▄▃▂▁▁▁▁▁▁▁▂▂▂▂▃▃▃▄▄▄▅▅▅▆▆▆▇▇▇██████</td></tr><tr><td>person_iou</td><td>▁▁▁▁▁▁▁▁▁▁</td></tr><tr><td>raw_loss</td><td>█▆▄▅▃▄▅▂▄▄▅▃▂▅▄▃▂▄▂▂▂▂▃▂▄▂▃▃▂▁▂▁▁▂▂▁▁▂▁▃</td></tr><tr><td>road_iou</td><td>▆▁▇▇██████</td></tr><tr><td>sqr_mom_0</td><td>▁▁▁▁▁▁▁▁▁▁▁▁▁▁▁▁▁▁▁▁▁▁▁▁▁▁▁▁▁▁▁▁▁▁▁▁▁▁▁▁</td></tr><tr><td>sqr_mom_1</td><td>▁▁▁▁▁▁▁▁▁▁▁▁▁▁▁▁▁▁▁▁▁▁▁▁▁▁▁▁▁▁▁▁▁▁▁▁▁▁▁▁</td></tr><tr><td>sqr_mom_2</td><td>▁▁▁▁▁▁▁▁▁▁▁▁▁▁▁▁▁▁▁▁▁▁▁▁▁▁▁▁▁▁▁▁▁▁▁▁▁▁▁▁</td></tr><tr><td>traffic_light_iou</td><td>▁▁▁▁▁▁█▂▆█</td></tr><tr><td>traffic_sign_iou</td><td>▁▁▁▁▁▁▁▁▂█</td></tr><tr><td>train_loss</td><td>█▅▄▃▃▃▃▂▃▃▂▂▂▂▂▂▂▂▂▂▂▁▁▁▁▁▁▁▁▁▁▁▁▁▁▁▁▁▁▁</td></tr><tr><td>valid_loss</td><td>▄█▅▃▁▁▁▁▁▁</td></tr><tr><td>vehicle_iou</td><td>▃▁▅▆▇▆▇███</td></tr><tr><td>wd_0</td><td>▁▁▁▁▁▁▁▁▁▁▁▁▁▁▁▁▁▁▁▁▁▁▁▁▁▁▁▁▁▁▁▁▁▁▁▁▁▁▁▁</td></tr><tr><td>wd_1</td><td>▁▁▁▁▁▁▁▁▁▁▁▁▁▁▁▁▁▁▁▁▁▁▁▁▁▁▁▁▁▁▁▁▁▁▁▁▁▁▁▁</td></tr><tr><td>wd_2</td><td>▁▁▁▁▁▁▁▁▁▁▁▁▁▁▁▁▁▁▁▁▁▁▁▁▁▁▁▁▁▁▁▁▁▁▁▁▁▁▁▁</td></tr></table><br/></div><div class=\"wandb-col\"><h3>Run summary:</h3><br/><table class=\"wandb\"><tr><td>background_iou</td><td>0.91559</td></tr><tr><td>bicycle_iou</td><td>0.0</td></tr><tr><td>epoch</td><td>10</td></tr><tr><td>eps_0</td><td>1e-05</td></tr><tr><td>eps_1</td><td>1e-05</td></tr><tr><td>eps_2</td><td>1e-05</td></tr><tr><td>final_background_iou</td><td>0.91559</td></tr><tr><td>final_bicycle_iou</td><td>0.0</td></tr><tr><td>final_loss</td><td>0.23007</td></tr><tr><td>final_miou</td><td>0.36202</td></tr><tr><td>final_person_iou</td><td>0.0</td></tr><tr><td>final_road_iou</td><td>0.81435</td></tr><tr><td>final_traffic_light_iou</td><td>0.04788</td></tr><tr><td>final_traffic_sign_iou</td><td>0.00418</td></tr><tr><td>final_vehicle_iou</td><td>0.75212</td></tr><tr><td>lr_0</td><td>0.0</td></tr><tr><td>lr_1</td><td>0.0</td></tr><tr><td>lr_2</td><td>0.0</td></tr><tr><td>miou</td><td>0.36202</td></tr><tr><td>mom_0</td><td>0.95</td></tr><tr><td>mom_1</td><td>0.95</td></tr><tr><td>mom_2</td><td>0.95</td></tr><tr><td>person_iou</td><td>0.0</td></tr><tr><td>raw_loss</td><td>0.2834</td></tr><tr><td>road_iou</td><td>0.81435</td></tr><tr><td>sqr_mom_0</td><td>0.99</td></tr><tr><td>sqr_mom_1</td><td>0.99</td></tr><tr><td>sqr_mom_2</td><td>0.99</td></tr><tr><td>traffic_light_iou</td><td>0.04788</td></tr><tr><td>traffic_sign_iou</td><td>0.00418</td></tr><tr><td>train_loss</td><td>0.18717</td></tr><tr><td>valid_loss</td><td>0.23007</td></tr><tr><td>vehicle_iou</td><td>0.75212</td></tr><tr><td>wd_0</td><td>0.01</td></tr><tr><td>wd_1</td><td>0.01</td></tr><tr><td>wd_2</td><td>0.01</td></tr></table><br/></div></div>"
      ],
      "text/plain": [
       "<IPython.core.display.HTML object>"
      ]
     },
     "metadata": {},
     "output_type": "display_data"
    },
    {
     "data": {
      "text/html": [
       "Synced <strong style=\"color:#cdcd00\">dazzling-lamp-14</strong>: <a href=\"https://wandb.ai/samu2505/mlops-course-001/runs/1g73qu5g\" target=\"_blank\">https://wandb.ai/samu2505/mlops-course-001/runs/1g73qu5g</a><br/>Synced 6 W&B file(s), 1 media file(s), 303 artifact file(s) and 0 other file(s)"
      ],
      "text/plain": [
       "<IPython.core.display.HTML object>"
      ]
     },
     "metadata": {},
     "output_type": "display_data"
    },
    {
     "data": {
      "text/html": [
       "Find logs at: <code>./wandb/run-20230130_030744-1g73qu5g/logs</code>"
      ],
      "text/plain": [
       "<IPython.core.display.HTML object>"
      ]
     },
     "metadata": {},
     "output_type": "display_data"
    }
   ],
   "source": [
    "wandb.finish()"
   ]
  },
  {
   "cell_type": "code",
   "execution_count": null,
   "id": "10520ddb-e941-47c1-85c0-98cb6175b513",
   "metadata": {},
   "outputs": [],
   "source": []
  }
 ],
 "metadata": {
  "kernelspec": {
   "display_name": "default:Python",
   "language": "python",
   "name": "conda-env-default-py"
  },
  "language_info": {
   "codemirror_mode": {
    "name": "ipython",
    "version": 3
   },
   "file_extension": ".py",
   "mimetype": "text/x-python",
   "name": "python",
   "nbconvert_exporter": "python",
   "pygments_lexer": "ipython3",
   "version": "3.9.9"
  }
 },
 "nbformat": 4,
 "nbformat_minor": 5
}

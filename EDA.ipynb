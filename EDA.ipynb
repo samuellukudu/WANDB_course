{
 "cells": [
  {
   "cell_type": "markdown",
   "id": "3865b038-259c-4c3e-9222-bad915b710af",
   "metadata": {},
   "source": [
    "# EDA\n",
    "\n",
    "In this notebook, we will download a sample of BDD100K semantic segmentation dataset and use W&B artificats and tables to version and analyze our data"
   ]
  },
  {
   "cell_type": "code",
   "execution_count": 1,
   "id": "9826f298-a098-4f89-92d1-c76e7c503ba8",
   "metadata": {},
   "outputs": [],
   "source": [
    "DEBUG = False # set this flag to True to use a small subset of data for testing"
   ]
  },
  {
   "cell_type": "code",
   "execution_count": 2,
   "id": "5994c72b-94c7-45d6-a541-fa024973ec16",
   "metadata": {},
   "outputs": [],
   "source": [
    "import os\n",
    "from fastai.vision.all import *\n",
    "\n",
    "import wandb"
   ]
  },
  {
   "cell_type": "code",
   "execution_count": 3,
   "id": "e91c8f56-ef30-4ad9-b164-19e8f96d5e83",
   "metadata": {},
   "outputs": [],
   "source": [
    "class Config:\n",
    "    WANDB_PROJECT = \"mlops-course-001\"\n",
    "    ENTITY = None # set this to team name if working in a team\n",
    "    BDD_CLASSES = {i: c for i, c in enumerate(['background', 'road', 'traffic light', 'traffic sign',\n",
    "                                              'person', 'vehicle', 'bicycle'])}\n",
    "    RAW_DATA_AT = 'bdd_simple_1k'\n",
    "    PROCESSED_DATA_AT = 'bdd_simple_1k_split'\n",
    "    \n",
    "PARAMS = Config()"
   ]
  },
  {
   "cell_type": "markdown",
   "id": "140539dd-56c7-4b8e-b798-1bd0d03f7443",
   "metadata": {},
   "source": [
    "We have defined some global configuration parameters in the ```Config()``` class. The ```ENTITY``` should correspond to your W&B team name if you work in a team, replace with None if you work individually.\n",
    "\n",
    "In the section below, we'll use ```untar_data``` function from ```fastai``` to download and unzip our datasets."
   ]
  },
  {
   "cell_type": "code",
   "execution_count": 4,
   "id": "2fe17941-7f01-4e11-88a8-1a49b11de098",
   "metadata": {},
   "outputs": [],
   "source": [
    "URL = 'https://storage.googleapis.com/wandb_course/bdd_simple_1k.zip'"
   ]
  },
  {
   "cell_type": "code",
   "execution_count": 5,
   "id": "573d4f41-577a-42a1-8854-d035e800bc1c",
   "metadata": {},
   "outputs": [
    {
     "data": {
      "text/html": [
       "\n",
       "<style>\n",
       "    /* Turns off some styling */\n",
       "    progress {\n",
       "        /* gets rid of default border in Firefox and Opera. */\n",
       "        border: none;\n",
       "        /* Needs to be in here for Safari polyfill so background images work as expected. */\n",
       "        background-size: auto;\n",
       "    }\n",
       "    .progress-bar-interrupted, .progress-bar-interrupted::-webkit-progress-bar {\n",
       "        background: #F44336;\n",
       "    }\n",
       "</style>\n"
      ],
      "text/plain": [
       "<IPython.core.display.HTML object>"
      ]
     },
     "metadata": {},
     "output_type": "display_data"
    },
    {
     "data": {
      "text/html": [
       "\n",
       "    <div>\n",
       "      <progress value='122470400' class='' max='122467691' style='width:300px; height:20px; vertical-align: middle;'></progress>\n",
       "      100.00% [122470400/122467691 00:01<00:00]\n",
       "    </div>\n",
       "    "
      ],
      "text/plain": [
       "<IPython.core.display.HTML object>"
      ]
     },
     "metadata": {},
     "output_type": "display_data"
    }
   ],
   "source": [
    "path = Path(untar_data(URL, force_download=True))"
   ]
  },
  {
   "cell_type": "code",
   "execution_count": 6,
   "id": "f62256c4-f573-4b60-8426-40610f195f11",
   "metadata": {},
   "outputs": [
    {
     "data": {
      "text/plain": [
       "['images', 'labels', 'LICENSE.txt']"
      ]
     },
     "execution_count": 6,
     "metadata": {},
     "output_type": "execute_result"
    }
   ],
   "source": [
    "os.listdir(path)"
   ]
  },
  {
   "cell_type": "code",
   "execution_count": 7,
   "id": "d8af8a89-3a14-4527-9c4e-a3e5414e485c",
   "metadata": {},
   "outputs": [
    {
     "data": {
      "text/plain": [
       "(#3) [Path('/home/studio-lab-user/.fastai/data/bdd_simple_1k/images'),Path('/home/studio-lab-user/.fastai/data/bdd_simple_1k/labels'),Path('/home/studio-lab-user/.fastai/data/bdd_simple_1k/LICENSE.txt')]"
      ]
     },
     "execution_count": 7,
     "metadata": {},
     "output_type": "execute_result"
    }
   ],
   "source": [
    "path.ls()"
   ]
  },
  {
   "cell_type": "markdown",
   "id": "27cc7bc7-f3b2-4594-9670-f593c6c5acdf",
   "metadata": {},
   "source": [
    "Define several functions to help process the data and upload it as a ```Table``` to W&B"
   ]
  },
  {
   "cell_type": "code",
   "execution_count": 8,
   "id": "182220cb-d851-4a8d-b5d6-e315ecc317ad",
   "metadata": {},
   "outputs": [],
   "source": [
    "def label_func(fname):\n",
    "    return (fname.parent.parent/\"labels\")/f\"{fname.stem}_mask.png\"\n",
    "\n",
    "\n",
    "def get_classes_per_image(mask_data, class_labels):\n",
    "    unique = list(np.unique(mask_data))\n",
    "    result_dict = {}\n",
    "    for _class in class_labels.keys():\n",
    "        result_dict[class_labels[_class]] = int(_class in unique)\n",
    "    return result_dict\n",
    "\n",
    "\n",
    "def _create_table(image_files, class_labels):\n",
    "    \"create a table with the dataset\"\n",
    "    labels = [str(class_labels[_lab]) for _lab in list(class_labels)]\n",
    "    table = wandb.Table(\n",
    "        columns=['File_Name', 'P1', 'P2', 'Images', 'Dataset'] + labels\n",
    "    )\n",
    "    \n",
    "    for i, image_file in progress_bar(enumerate(image_files), total=len(image_files)):\n",
    "        image = Image.open(image_file)\n",
    "        mask_data = np.array(Image.open(label_func(image_file)))\n",
    "        class_in_image = get_classes_per_image(mask_data, class_labels)\n",
    "        \n",
    "        table.add_data(\n",
    "            str(image_file.name),\n",
    "            image_file.stem.split('-')[0],\n",
    "            image_file.stem.split('-')[1],\n",
    "            wandb.Image(\n",
    "                image,\n",
    "                masks={\n",
    "                    \"predictions\": {\n",
    "                        \"mask_data\": mask_data,\n",
    "                        \"class_labels\": class_labels,\n",
    "                    }\n",
    "                }\n",
    "            ),\n",
    "            \"bdd1k\", # we don't have a dataset split yet\n",
    "            *[class_in_image[_lab] for _lab in labels]\n",
    "        )\n",
    "        \n",
    "    return table"
   ]
  },
  {
   "cell_type": "markdown",
   "id": "64da4b27-0382-4b7c-9fd7-18954786623e",
   "metadata": {},
   "source": [
    "We will start a new W&B ```run``` and put everything into a raw Artifact"
   ]
  },
  {
   "cell_type": "code",
   "execution_count": 9,
   "id": "dbf23561-339e-4b0e-94b8-52bf2440d208",
   "metadata": {},
   "outputs": [
    {
     "name": "stderr",
     "output_type": "stream",
     "text": [
      "Failed to detect the name of this notebook, you can set it manually with the WANDB_NOTEBOOK_NAME environment variable to enable code saving.\n",
      "\u001b[34m\u001b[1mwandb\u001b[0m: Currently logged in as: \u001b[33msamu2505\u001b[0m. Use \u001b[1m`wandb login --relogin`\u001b[0m to force relogin\n"
     ]
    },
    {
     "data": {
      "text/html": [
       "wandb version 0.13.7 is available!  To upgrade, please run:\n",
       " $ pip install wandb --upgrade"
      ],
      "text/plain": [
       "<IPython.core.display.HTML object>"
      ]
     },
     "metadata": {},
     "output_type": "display_data"
    },
    {
     "data": {
      "text/html": [
       "Tracking run with wandb version 0.12.21"
      ],
      "text/plain": [
       "<IPython.core.display.HTML object>"
      ]
     },
     "metadata": {},
     "output_type": "display_data"
    },
    {
     "data": {
      "text/html": [
       "Run data is saved locally in <code>/home/studio-lab-user/WANDB_course/wandb/run-20221229_074835-31nolt2y</code>"
      ],
      "text/plain": [
       "<IPython.core.display.HTML object>"
      ]
     },
     "metadata": {},
     "output_type": "display_data"
    },
    {
     "data": {
      "text/html": [
       "Syncing run <strong><a href=\"https://wandb.ai/samu2505/mlops-course-001/runs/31nolt2y\" target=\"_blank\">glad-sun-5</a></strong> to <a href=\"https://wandb.ai/samu2505/mlops-course-001\" target=\"_blank\">Weights & Biases</a> (<a href=\"https://wandb.me/run\" target=\"_blank\">docs</a>)<br/>"
      ],
      "text/plain": [
       "<IPython.core.display.HTML object>"
      ]
     },
     "metadata": {},
     "output_type": "display_data"
    }
   ],
   "source": [
    "run = wandb.init(\n",
    "    project=PARAMS.WANDB_PROJECT,\n",
    "    entity=PARAMS.ENTITY,\n",
    "    job_type=\"upload\"\n",
    ")\n",
    "\n",
    "raw_data = wandb.Artifact(\n",
    "    PARAMS.RAW_DATA_AT,\n",
    "    type='raw_data'\n",
    ")"
   ]
  },
  {
   "cell_type": "code",
   "execution_count": 10,
   "id": "791247a9-92d3-4b8d-9364-1331da2ef5e1",
   "metadata": {},
   "outputs": [
    {
     "data": {
      "text/plain": [
       "<ManifestEntry digest: X+6ZFkDOlnKesJCNt20yRg==>"
      ]
     },
     "execution_count": 10,
     "metadata": {},
     "output_type": "execute_result"
    }
   ],
   "source": [
    "raw_data.add_file(path/'LICENSE.txt', name='LICENSE.txt')"
   ]
  },
  {
   "cell_type": "markdown",
   "id": "b005573b-fcde-42b5-a41a-781d938b8d45",
   "metadata": {},
   "source": [
    "Let's add the images and label masks"
   ]
  },
  {
   "cell_type": "code",
   "execution_count": 11,
   "id": "40e5bfcd-6e97-4bfd-b67c-e0bde971ff9f",
   "metadata": {},
   "outputs": [
    {
     "name": "stderr",
     "output_type": "stream",
     "text": [
      "\u001b[34m\u001b[1mwandb\u001b[0m: Adding directory to artifact (/home/studio-lab-user/.fastai/data/bdd_simple_1k/images)... Done. 0.8s\n",
      "\u001b[34m\u001b[1mwandb\u001b[0m: Adding directory to artifact (/home/studio-lab-user/.fastai/data/bdd_simple_1k/labels)... Done. 0.4s\n"
     ]
    }
   ],
   "source": [
    "raw_data.add_dir(path/'images', name='images')\n",
    "raw_data.add_dir(path/'labels', name='labels')"
   ]
  },
  {
   "cell_type": "markdown",
   "id": "05045fbb-6939-4cfe-b1e2-e952820d72fd",
   "metadata": {},
   "source": [
    "Let's get the file names of images in our dataset and use the function we defined above to create a W&B Table"
   ]
  },
  {
   "cell_type": "code",
   "execution_count": 12,
   "id": "63d113fe-7cc8-4eba-85ff-5cf4a312aa66",
   "metadata": {},
   "outputs": [],
   "source": [
    "image_files = get_image_files(path/'images', recurse=False)\n",
    "\n",
    "# sample a subset if DEBUG\n",
    "if DEBUG:\n",
    "    image_files = image_files[:10]"
   ]
  },
  {
   "cell_type": "code",
   "execution_count": 13,
   "id": "efa6e2a8-612c-4442-bc5b-677bf7ff1c73",
   "metadata": {},
   "outputs": [
    {
     "data": {
      "text/html": [
       "\n",
       "<style>\n",
       "    /* Turns off some styling */\n",
       "    progress {\n",
       "        /* gets rid of default border in Firefox and Opera. */\n",
       "        border: none;\n",
       "        /* Needs to be in here for Safari polyfill so background images work as expected. */\n",
       "        background-size: auto;\n",
       "    }\n",
       "    .progress-bar-interrupted, .progress-bar-interrupted::-webkit-progress-bar {\n",
       "        background: #F44336;\n",
       "    }\n",
       "</style>\n"
      ],
      "text/plain": [
       "<IPython.core.display.HTML object>"
      ]
     },
     "metadata": {},
     "output_type": "display_data"
    },
    {
     "data": {
      "text/html": [
       "\n",
       "    <div>\n",
       "      <progress value='1000' class='' max='1000' style='width:300px; height:20px; vertical-align: middle;'></progress>\n",
       "      100.00% [1000/1000 10:51<00:00]\n",
       "    </div>\n",
       "    "
      ],
      "text/plain": [
       "<IPython.core.display.HTML object>"
      ]
     },
     "metadata": {},
     "output_type": "display_data"
    }
   ],
   "source": [
    "table = _create_table(image_files, PARAMS.BDD_CLASSES)"
   ]
  },
  {
   "cell_type": "markdown",
   "id": "4c730cca-0d68-41e4-a007-e877194b5a52",
   "metadata": {},
   "source": [
    "Finally, we will add the Table to our artifact, log it to W&B and finish our run"
   ]
  },
  {
   "cell_type": "code",
   "execution_count": 14,
   "id": "b2153d31-3712-47c2-84a7-f67199831116",
   "metadata": {},
   "outputs": [
    {
     "data": {
      "text/plain": [
       "<ManifestEntry digest: KD3UiqjzkaA+ujwEer9dag==>"
      ]
     },
     "execution_count": 14,
     "metadata": {},
     "output_type": "execute_result"
    }
   ],
   "source": [
    "raw_data.add(table, \"eda_table\")"
   ]
  },
  {
   "cell_type": "code",
   "execution_count": 15,
   "id": "d500e6c9-93b3-4ef2-85c5-831efe12df16",
   "metadata": {},
   "outputs": [
    {
     "data": {
      "text/html": [
       "Waiting for W&B process to finish... <strong style=\"color:green\">(success).</strong>"
      ],
      "text/plain": [
       "<IPython.core.display.HTML object>"
      ]
     },
     "metadata": {},
     "output_type": "display_data"
    },
    {
     "data": {
      "application/vnd.jupyter.widget-view+json": {
       "model_id": "",
       "version_major": 2,
       "version_minor": 0
      },
      "text/plain": [
       "VBox(children=(Label(value='846.591 MB of 846.591 MB uploaded (846.005 MB deduped)\\r'), FloatProgress(value=1.…"
      ]
     },
     "metadata": {},
     "output_type": "display_data"
    },
    {
     "data": {
      "text/html": [
       "W&B sync reduced upload amount by 99.9%             "
      ],
      "text/plain": [
       "<IPython.core.display.HTML object>"
      ]
     },
     "metadata": {},
     "output_type": "display_data"
    },
    {
     "data": {
      "text/html": [
       "Synced <strong style=\"color:#cdcd00\">glad-sun-5</strong>: <a href=\"https://wandb.ai/samu2505/mlops-course-001/runs/31nolt2y\" target=\"_blank\">https://wandb.ai/samu2505/mlops-course-001/runs/31nolt2y</a><br/>Synced 6 W&B file(s), 0 media file(s), 4007 artifact file(s) and 0 other file(s)"
      ],
      "text/plain": [
       "<IPython.core.display.HTML object>"
      ]
     },
     "metadata": {},
     "output_type": "display_data"
    },
    {
     "data": {
      "text/html": [
       "Find logs at: <code>./wandb/run-20221229_074835-31nolt2y/logs</code>"
      ],
      "text/plain": [
       "<IPython.core.display.HTML object>"
      ]
     },
     "metadata": {},
     "output_type": "display_data"
    }
   ],
   "source": [
    "run.log_artifact(raw_data)\n",
    "run.finish()"
   ]
  },
  {
   "cell_type": "code",
   "execution_count": null,
   "id": "89d64c10-05c7-401c-98b1-3ee85356e54e",
   "metadata": {},
   "outputs": [],
   "source": []
  }
 ],
 "metadata": {
  "kernelspec": {
   "display_name": "default:Python",
   "language": "python",
   "name": "conda-env-default-py"
  },
  "language_info": {
   "codemirror_mode": {
    "name": "ipython",
    "version": 3
   },
   "file_extension": ".py",
   "mimetype": "text/x-python",
   "name": "python",
   "nbconvert_exporter": "python",
   "pygments_lexer": "ipython3",
   "version": "3.9.9"
  }
 },
 "nbformat": 4,
 "nbformat_minor": 5
}
